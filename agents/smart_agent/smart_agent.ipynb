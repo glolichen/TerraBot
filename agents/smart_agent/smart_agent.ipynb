{
 "cells": [
  {
   "cell_type": "code",
   "execution_count": 1,
   "metadata": {},
   "outputs": [
    {
     "ename": "ModuleNotFoundError",
     "evalue": "No module named 'wrapper'",
     "output_type": "error",
     "traceback": [
      "\u001b[0;31m---------------------------------------------------------------------------\u001b[0m",
      "\u001b[0;31mModuleNotFoundError\u001b[0m                       Traceback (most recent call last)",
      "Cell \u001b[0;32mIn[1], line 1\u001b[0m\n\u001b[0;32m----> 1\u001b[0m \u001b[38;5;28;01mfrom\u001b[39;00m \u001b[38;5;21;01menvironment\u001b[39;00m \u001b[38;5;28;01mimport\u001b[39;00m TerraBotEnvironment\n\u001b[1;32m      2\u001b[0m \u001b[38;5;28;01mimport\u001b[39;00m \u001b[38;5;21;01mtorch\u001b[39;00m\n\u001b[1;32m      3\u001b[0m \u001b[38;5;28;01mimport\u001b[39;00m \u001b[38;5;21;01mtorch\u001b[39;00m\u001b[38;5;21;01m.\u001b[39;00m\u001b[38;5;21;01mnn\u001b[39;00m \u001b[38;5;28;01mas\u001b[39;00m \u001b[38;5;21;01mnn\u001b[39;00m\n",
      "File \u001b[0;32m~/Desktop/Programs/TerraBot/agents/smart_agent/environment.py:4\u001b[0m\n\u001b[1;32m      2\u001b[0m \u001b[38;5;28;01mimport\u001b[39;00m \u001b[38;5;21;01mrandom\u001b[39;00m\n\u001b[1;32m      3\u001b[0m \u001b[38;5;28;01mimport\u001b[39;00m \u001b[38;5;21;01mgymnasium\u001b[39;00m \u001b[38;5;28;01mas\u001b[39;00m \u001b[38;5;21;01mgym\u001b[39;00m\n\u001b[0;32m----> 4\u001b[0m \u001b[38;5;28;01mimport\u001b[39;00m \u001b[38;5;21;01mwrapper\u001b[39;00m\n\u001b[1;32m      6\u001b[0m \u001b[38;5;28;01mclass\u001b[39;00m \u001b[38;5;21;01mTerraBotEnvironment\u001b[39;00m(gym\u001b[38;5;241m.\u001b[39mEnv):\n\u001b[1;32m      7\u001b[0m \t\u001b[38;5;66;03m# [weight, humidity, temperature, light level]\u001b[39;00m\n\u001b[1;32m      8\u001b[0m \t\u001b[38;5;66;03m# TODO find actual optimal weight\u001b[39;00m\n\u001b[1;32m      9\u001b[0m \t\u001b[38;5;28;01mdef\u001b[39;00m \u001b[38;5;21m__init__\u001b[39m(\u001b[38;5;28mself\u001b[39m, size\u001b[38;5;241m=\u001b[39m\u001b[38;5;241m5\u001b[39m):\n",
      "\u001b[0;31mModuleNotFoundError\u001b[0m: No module named 'wrapper'"
     ]
    }
   ],
   "source": [
    "from environment import TerraBotEnvironment\n",
    "import torch\n",
    "import torch.nn as nn\n",
    "import torch.optim as optim\n",
    "\n",
    "env = TerraBotEnvironment()"
   ]
  },
  {
   "cell_type": "code",
   "execution_count": null,
   "metadata": {},
   "outputs": [],
   "source": [
    "\n",
    "\n",
    "state_size = env.observation_space.shape[0]\n",
    "action_size = env.action_space.n\n",
    "\n",
    "# Define the policy network\n",
    "class Policy(nn.Module):\n",
    "    def __init__(self):\n",
    "        super(Policy, self).__init__()\n",
    "        self.fc1 = nn.Linear(state_size, 32)\n",
    "        self.fc2 = nn.Linear(32, action_size)\n",
    "\n",
    "    def forward(self, x):\n",
    "        x = torch.relu(self.fc1(x))\n",
    "        x = self.fc2(x)\n",
    "        return torch.softmax(x, dim=-1)\n",
    "\n",
    "policy = Policy()\n",
    "\n",
    "loss_fn = nn.CrossEntropyLoss()\n",
    "optimizer = optim.Adam(policy.parameters())\n",
    "\n",
    "def update_policy(rewards, log_probs, optimizer):\n",
    "    log_probs = torch.stack(log_probs)\n",
    "    loss = -torch.mean(log_probs * sum(rewards))\n",
    "    optimizer.zero_grad()\n",
    "    loss.backward()\n",
    "    optimizer.step()\n",
    "\n",
    "for episode in range(10000):\n",
    "\tstate, _ = env.reset()\n",
    "\tdone = False\n",
    "\trewards = []\n",
    "\tlog_probs = []\n",
    "\t\n",
    "\twhile not done:\n",
    "\t\t# Select action\n",
    "\t\tstate = torch.tensor(state, dtype=torch.float32).reshape(1, -1)\n",
    "\t\tprobs = policy(state)\n",
    "\t\taction = torch.multinomial(probs, 1).item()\n",
    "\t\tlog_prob = torch.log(probs[0, action])\n",
    "\n",
    "\t\t# Take step\n",
    "\t\tnext_state, reward, done, _, _ = env.step(action)\n",
    "\t\trewards.append(reward)\n",
    "\t\tlog_probs.append(log_prob)\n",
    "\t\tstate = next_state\n",
    "\t\t\n",
    "\t# Update policy\n",
    "\tif episode % 1000 == 0:\n",
    "\t\tprint(f\"Episode {episode}: {sum(rewards)}\")\n",
    "\tupdate_policy(rewards, log_probs, optimizer)\n",
    "\trewards = []\n",
    "\tlog_probs = []\n"
   ]
  }
 ],
 "metadata": {
  "kernelspec": {
   "display_name": "venv",
   "language": "python",
   "name": "python3"
  },
  "language_info": {
   "codemirror_mode": {
    "name": "ipython",
    "version": 3
   },
   "file_extension": ".py",
   "mimetype": "text/x-python",
   "name": "python",
   "nbconvert_exporter": "python",
   "pygments_lexer": "ipython3",
   "version": "3.8.19"
  }
 },
 "nbformat": 4,
 "nbformat_minor": 2
}
